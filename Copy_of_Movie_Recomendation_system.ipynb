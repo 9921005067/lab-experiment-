{
  "nbformat": 4,
  "nbformat_minor": 0,
  "metadata": {
    "colab": {
      "provenance": [],
      "authorship_tag": "ABX9TyM8GL0Eugn6NNadkR60sIxm",
      "include_colab_link": true
    },
    "kernelspec": {
      "name": "python3",
      "display_name": "Python 3"
    },
    "language_info": {
      "name": "python"
    }
  },
  "cells": [
    {
      "cell_type": "markdown",
      "metadata": {
        "id": "view-in-github",
        "colab_type": "text"
      },
      "source": [
        "<a href=\"https://colab.research.google.com/github/9921005067/lab-experiment-/blob/main/Copy_of_Movie_Recomendation_system.ipynb\" target=\"_parent\"><img src=\"https://colab.research.google.com/assets/colab-badge.svg\" alt=\"Open In Colab\"/></a>"
      ]
    },
    {
      "cell_type": "code",
      "execution_count": null,
      "metadata": {
        "colab": {
          "base_uri": "https://localhost:8080/"
        },
        "id": "ma84u4jbDwSK",
        "outputId": "aa7bc2be-6d94-47f2-dd48-ba94f0467b75"
      },
      "outputs": [
        {
          "output_type": "stream",
          "name": "stdout",
          "text": [
            "Collecting lightfm\n",
            "  Downloading lightfm-1.17.tar.gz (316 kB)\n",
            "\u001b[?25l     \u001b[90m━━━━━━━━━━━━━━━━━━━━━━━━━━━━━━━━━━━━━━━━\u001b[0m \u001b[32m0.0/316.4 kB\u001b[0m \u001b[31m?\u001b[0m eta \u001b[36m-:--:--\u001b[0m\r\u001b[2K     \u001b[91m━━━━━━━━━━━━━━━━━━\u001b[0m\u001b[90m╺\u001b[0m\u001b[90m━━━━━━━━━━━━━━━━━━━━━\u001b[0m \u001b[32m143.4/316.4 kB\u001b[0m \u001b[31m4.3 MB/s\u001b[0m eta \u001b[36m0:00:01\u001b[0m\r\u001b[2K     \u001b[90m━━━━━━━━━━━━━━━━━━━━━━━━━━━━━━━━━━━━━━━━\u001b[0m \u001b[32m316.4/316.4 kB\u001b[0m \u001b[31m4.5 MB/s\u001b[0m eta \u001b[36m0:00:00\u001b[0m\n",
            "\u001b[?25h  Preparing metadata (setup.py) ... \u001b[?25l\u001b[?25hdone\n",
            "Requirement already satisfied: numpy in /usr/local/lib/python3.11/dist-packages (2.0.2)\n",
            "Requirement already satisfied: scipy in /usr/local/lib/python3.11/dist-packages (1.14.1)\n",
            "Requirement already satisfied: requests in /usr/local/lib/python3.11/dist-packages (from lightfm) (2.32.3)\n",
            "Requirement already satisfied: scikit-learn in /usr/local/lib/python3.11/dist-packages (from lightfm) (1.6.1)\n",
            "Requirement already satisfied: charset-normalizer<4,>=2 in /usr/local/lib/python3.11/dist-packages (from requests->lightfm) (3.4.1)\n",
            "Requirement already satisfied: idna<4,>=2.5 in /usr/local/lib/python3.11/dist-packages (from requests->lightfm) (3.10)\n",
            "Requirement already satisfied: urllib3<3,>=1.21.1 in /usr/local/lib/python3.11/dist-packages (from requests->lightfm) (2.3.0)\n",
            "Requirement already satisfied: certifi>=2017.4.17 in /usr/local/lib/python3.11/dist-packages (from requests->lightfm) (2025.1.31)\n",
            "Requirement already satisfied: joblib>=1.2.0 in /usr/local/lib/python3.11/dist-packages (from scikit-learn->lightfm) (1.4.2)\n",
            "Requirement already satisfied: threadpoolctl>=3.1.0 in /usr/local/lib/python3.11/dist-packages (from scikit-learn->lightfm) (3.6.0)\n",
            "Building wheels for collected packages: lightfm\n",
            "  Building wheel for lightfm (setup.py) ... \u001b[?25l\u001b[?25hdone\n",
            "  Created wheel for lightfm: filename=lightfm-1.17-cp311-cp311-linux_x86_64.whl size=831160 sha256=8c434fa39cbfd2b8be4e6970cf970d10e55dd58bf12a685af8b927b92a29d169\n",
            "  Stored in directory: /root/.cache/pip/wheels/b9/0d/8a/0729d2e6e3ca2a898ba55201f905da7db3f838a33df5b3fcdd\n",
            "Successfully built lightfm\n",
            "Installing collected packages: lightfm\n",
            "Successfully installed lightfm-1.17\n"
          ]
        }
      ],
      "source": [
        "!pip install lightfm numpy scipy\n"
      ]
    },
    {
      "cell_type": "code",
      "source": [
        "!pip install lightfm numpy scipy\n"
      ],
      "metadata": {
        "colab": {
          "base_uri": "https://localhost:8080/"
        },
        "id": "25cOgTPkD892",
        "outputId": "2a406567-cf8d-48df-ffc5-abba6db5b647"
      },
      "execution_count": null,
      "outputs": [
        {
          "output_type": "stream",
          "name": "stdout",
          "text": [
            "Requirement already satisfied: lightfm in /usr/local/lib/python3.11/dist-packages (1.17)\n",
            "Requirement already satisfied: numpy in /usr/local/lib/python3.11/dist-packages (2.0.2)\n",
            "Requirement already satisfied: scipy in /usr/local/lib/python3.11/dist-packages (1.14.1)\n",
            "Requirement already satisfied: requests in /usr/local/lib/python3.11/dist-packages (from lightfm) (2.32.3)\n",
            "Requirement already satisfied: scikit-learn in /usr/local/lib/python3.11/dist-packages (from lightfm) (1.6.1)\n",
            "Requirement already satisfied: charset-normalizer<4,>=2 in /usr/local/lib/python3.11/dist-packages (from requests->lightfm) (3.4.1)\n",
            "Requirement already satisfied: idna<4,>=2.5 in /usr/local/lib/python3.11/dist-packages (from requests->lightfm) (3.10)\n",
            "Requirement already satisfied: urllib3<3,>=1.21.1 in /usr/local/lib/python3.11/dist-packages (from requests->lightfm) (2.3.0)\n",
            "Requirement already satisfied: certifi>=2017.4.17 in /usr/local/lib/python3.11/dist-packages (from requests->lightfm) (2025.1.31)\n",
            "Requirement already satisfied: joblib>=1.2.0 in /usr/local/lib/python3.11/dist-packages (from scikit-learn->lightfm) (1.4.2)\n",
            "Requirement already satisfied: threadpoolctl>=3.1.0 in /usr/local/lib/python3.11/dist-packages (from scikit-learn->lightfm) (3.6.0)\n"
          ]
        }
      ]
    },
    {
      "cell_type": "code",
      "source": [
        "import numpy as np\n",
        "from lightfm.datasets import fetch_movielens\n",
        "from lightfm import LightFM\n",
        "\n",
        "# Fetch data and format it\n",
        "data = fetch_movielens(min_rating=4.0)\n",
        "\n",
        "# Print training and testing data shape\n",
        "print(f\"Training data shape: {data['train'].shape}\")\n",
        "print(f\"Testing data shape: {data['test'].shape}\")\n",
        "\n",
        "# Create models with different loss functions\n",
        "models = {\n",
        "    'warp': LightFM(loss='warp'),\n",
        "    'bpr': LightFM(loss='bpr'),\n",
        "    'logistic': LightFM(loss='logistic')\n",
        "}\n",
        "\n",
        "# Train models\n",
        "for name, model in models.items():\n",
        "    print(f\"Training {name} model...\")\n",
        "    model.fit(data['train'], epochs=30, num_threads=2)\n",
        "\n",
        "# Select the best model (assuming 'warp' is best)\n",
        "best_model = models['warp']\n",
        "\n",
        "def recommend_movies(name, age, mood):\n",
        "    \"\"\"Recommend movies based on mood & suggest OTT platform with comments.\"\"\"\n",
        "\n",
        "    mood_based_recommendations = {\n",
        "        \"sad\": [\n",
        "            (\"Vedam\", \"Drama\", \"8.1 IMDb\", \"⭐⭐⭐⭐\", \"Hotstar\"),\n",
        "            (\"Gamyam\", \"Drama/Road Movie\", \"8.3 IMDb\", \"⭐⭐⭐⭐\", \"Aha\"),\n",
        "            (\"Mahanati\", \"Biography/Drama\", \"8.9 IMDb\", \"⭐⭐⭐⭐⭐\", \"Prime Video\"),\n",
        "            (\"Jersey\", \"Sports/Drama\", \"8.5 IMDb\", \"⭐⭐⭐⭐\", \"Netflix\"),\n",
        "            (\"Peranbu (Tamil)\", \"Drama\", \"9.0 IMDb\", \"⭐⭐⭐⭐⭐\", \"Prime Video\"),\n",
        "        ],\n",
        "        \"happy\": [\n",
        "            (\"Bommarillu\", \"Romantic/Drama\", \"8.2 IMDb\", \"⭐⭐⭐⭐\", \"Hotstar\"),\n",
        "            (\"Nuvvu Naaku Nachav\", \"Romantic/Comedy\", \"8.7 IMDb\", \"⭐⭐⭐⭐⭐\", \"Aha\"),\n",
        "            (\"Jathi Ratnalu\", \"Comedy\", \"7.3 IMDb\", \"⭐⭐⭐⭐\", \"Prime Video\"),\n",
        "            (\"Ala Vaikunthapurramuloo\", \"Action/Comedy\", \"7.3 IMDb\", \"⭐⭐⭐⭐\", \"Netflix\"),\n",
        "            (\"Raja Rani (Tamil)\", \"Romantic/Drama\", \"7.6 IMDb\", \"⭐⭐⭐⭐\", \"Hotstar\"),\n",
        "        ],\n",
        "        \"excited\": [\n",
        "            (\"Vikram (Tamil)\", \"Action/Thriller\", \"8.4 IMDb\", \"⭐⭐⭐⭐⭐\", \"Hotstar\"),\n",
        "            (\"Kaithi (Tamil)\", \"Action/Thriller\", \"8.5 IMDb\", \"⭐⭐⭐⭐⭐\", \"Prime Video\"),\n",
        "            (\"KGF: Chapter 2\", \"Action/Drama\", \"8.3 IMDb\", \"⭐⭐⭐⭐⭐\", \"Netflix\"),\n",
        "            (\"Baahubali 2\", \"Action/Fantasy\", \"8.2 IMDb\", \"⭐⭐⭐⭐\", \"Hotstar\"),\n",
        "            (\"Pushpa: The Rise\", \"Action/Thriller\", \"7.6 IMDb\", \"⭐⭐⭐⭐\", \"Prime Video\"),\n",
        "        ],\n",
        "        \"bore\": [\n",
        "            (\"Eega\", \"Fantasy/Thriller\", \"7.7 IMDb\", \"⭐⭐⭐⭐\", \"Hotstar\"),\n",
        "            (\"Awe\", \"Psychological Thriller\", \"7.8 IMDb\", \"⭐⭐⭐⭐\", \"Prime Video\"),\n",
        "            (\"1-Nenokkadine\", \"Psychological Thriller\", \"8.1 IMDb\", \"⭐⭐⭐⭐\", \"Netflix\"),\n",
        "            (\"Ratsasan (Tamil)\", \"Crime/Thriller\", \"8.3 IMDb\", \"⭐⭐⭐⭐⭐\", \"Hotstar\"),\n",
        "            (\"Goodachari\", \"Spy Thriller\", \"7.9 IMDb\", \"⭐⭐⭐⭐\", \"Aha\"),\n",
        "        ],\n",
        "        \"motivated\": [\n",
        "            (\"Soorarai Pottru (Tamil)\", \"Biography/Drama\", \"8.7 IMDb\", \"⭐⭐⭐⭐⭐\", \"Prime Video\"),\n",
        "            (\"Jersey\", \"Sports/Drama\", \"8.5 IMDb\", \"⭐⭐⭐⭐\", \"Netflix\"),\n",
        "            (\"M.S. Dhoni: The Untold Story\", \"Biography/Sports\", \"8.0 IMDb\", \"⭐⭐⭐⭐\", \"Hotstar\"),\n",
        "            (\"Dangal\", \"Sports/Drama\", \"8.4 IMDb\", \"⭐⭐⭐⭐⭐\", \"Netflix\"),\n",
        "            (\"Bhaag Milkha Bhaag\", \"Sports/Biopic\", \"8.2 IMDb\", \"⭐⭐⭐⭐\", \"Prime Video\"),\n",
        "        ],\n",
        "    }\n",
        "\n",
        "    movie_comments = {\n",
        "        \"sad\": \"A deep and touching story. Hope it lifts your spirits!\",\n",
        "        \"happy\": \"A fun and heartwarming choice! You’ll enjoy every moment.\",\n",
        "        \"excited\": \"Great pick! This one will keep you on the edge of your seat!\",\n",
        "        \"bore\": \"Smart move! This will definitely keep your mind engaged.\",\n",
        "        \"motivated\": \"Fantastic choice! Get ready to feel inspired and pumped!\"\n",
        "    }\n",
        "\n",
        "    if mood in mood_based_recommendations:\n",
        "        print(f\"\\nHello {name}! At {age}, you're in the mood for {mood.capitalize()} movies.\")\n",
        "        print(\"Recommended Movies:\")\n",
        "        movie_dict = {}\n",
        "        for idx, (movie, genre, imdb_rating, stars, platform) in enumerate(mood_based_recommendations[mood], 1):\n",
        "            print(f\"{idx}. {movie} ({genre}) - {imdb_rating} | {stars}\")\n",
        "            movie_dict[str(idx)] = (movie, platform)  # Store movie & platform by index\n",
        "\n",
        "        # Ask user to pick a movie\n",
        "        while True:\n",
        "            choice = input(\"\\nSelect a movie by number to get the OTT platform (or type 'exit' to skip): \").strip()\n",
        "            if choice.lower() == \"exit\":\n",
        "                print(\"\\nSkipping OTT suggestion.\")\n",
        "                break\n",
        "            elif choice in movie_dict:\n",
        "                selected_movie, ott_platform = movie_dict[choice]\n",
        "                print(f\"\\n{selected_movie} is available on {ott_platform}.\")\n",
        "                print(movie_comments[mood])  # Comment based on mood\n",
        "                print(\"Enjoy watching!\")  # Ensuring the message is on a new line\n",
        "                break\n",
        "            else:\n",
        "                print(\"Invalid choice! Please select a valid movie number or type 'exit'.\")\n",
        "\n",
        "    elif mood == \"exit\":\n",
        "        print(f\"\\nGoodbye, {name}! Hope to see you again soon! 🎬😊\")\n",
        "        return False  # Stop loop in main()\n",
        "    else:\n",
        "        print(\"\\nInvalid mood! Please enter a valid mood or type 'exit' to quit.\")\n",
        "    return True  # Continue loop\n",
        "\n",
        "def main():\n",
        "    \"\"\"Main function to keep recommending movies until the user exits.\"\"\"\n",
        "    while True:\n",
        "        print(\"\\n🎥 Welcome to the Movie Recommendation System! 🎬\")\n",
        "        name = input(\"\\nHey there! What's your name? \").strip().title()\n",
        "        age = input(f\"Nice to meet you, {name}! How old are you? \").strip()\n",
        "\n",
        "        while True:\n",
        "            user_mood = input(f\"\\n{name}, what’s your mood? (e.g., sad/happy/excited/bore/motivated) or type 'exit' to quit: \").strip().lower()\n",
        "            if not recommend_movies(name, age, user_mood):\n",
        "                break  # Exit the loop\n",
        "\n",
        "        # Ask if another user wants to continue\n",
        "        restart = input(\"\\nWould you like to start fresh for another user? (yes/no): \").strip().lower()\n",
        "        if restart != \"yes\":\n",
        "            print(\"\\n🎬 Thanks for using the Movie Recommendation System! Have a great day! 😊🍿\")\n",
        "            break  # Exit the program\n",
        "\n",
        "# Run the program\n",
        "if __name__ == \"__main__\":\n",
        "    main()\n"
      ],
      "metadata": {
        "colab": {
          "base_uri": "https://localhost:8080/"
        },
        "id": "qz8Yos_mFpvD",
        "outputId": "c39d9d2a-aba3-4dcd-e6a6-3dbfed82077b"
      },
      "execution_count": null,
      "outputs": [
        {
          "output_type": "stream",
          "name": "stdout",
          "text": [
            "Training data shape: (943, 1682)\n",
            "Testing data shape: (943, 1682)\n",
            "Training warp model...\n",
            "Training bpr model...\n",
            "Training logistic model...\n",
            "\n",
            "🎥 Welcome to the Movie Recommendation System! 🎬\n",
            "\n",
            "Hey there! What's your name? irfan\n",
            "Nice to meet you, Irfan! How old are you? 22\n",
            "\n",
            "Irfan, what’s your mood? (e.g., sad/happy/excited/bore/motivated) or type 'exit' to quit: sad\n",
            "\n",
            "Hello Irfan! At 22, you're in the mood for Sad movies.\n",
            "Recommended Movies:\n",
            "1. Vedam (Drama) - 8.1 IMDb | ⭐⭐⭐⭐\n",
            "2. Gamyam (Drama/Road Movie) - 8.3 IMDb | ⭐⭐⭐⭐\n",
            "3. Mahanati (Biography/Drama) - 8.9 IMDb | ⭐⭐⭐⭐⭐\n",
            "4. Jersey (Sports/Drama) - 8.5 IMDb | ⭐⭐⭐⭐\n",
            "5. Peranbu (Tamil) (Drama) - 9.0 IMDb | ⭐⭐⭐⭐⭐\n",
            "\n",
            "Select a movie by number to get the OTT platform (or type 'exit' to skip): 3\n",
            "\n",
            "Mahanati is available on Prime Video.\n",
            "A deep and touching story. Hope it lifts your spirits!\n",
            "Enjoy watching!\n",
            "\n",
            "Irfan, what’s your mood? (e.g., sad/happy/excited/bore/motivated) or type 'exit' to quit: exit\n",
            "\n",
            "Goodbye, Irfan! Hope to see you again soon! 🎬😊\n",
            "\n",
            "Would you like to start fresh for another user? (yes/no): yes\n",
            "\n",
            "🎥 Welcome to the Movie Recommendation System! 🎬\n",
            "\n",
            "Hey there! What's your name? siva\n",
            "Nice to meet you, Siva! How old are you? 21\n",
            "\n",
            "Siva, what’s your mood? (e.g., sad/happy/excited/bore/motivated) or type 'exit' to quit: bore\n",
            "\n",
            "Hello Siva! At 21, you're in the mood for Bore movies.\n",
            "Recommended Movies:\n",
            "1. Eega (Fantasy/Thriller) - 7.7 IMDb | ⭐⭐⭐⭐\n",
            "2. Awe (Psychological Thriller) - 7.8 IMDb | ⭐⭐⭐⭐\n",
            "3. 1-Nenokkadine (Psychological Thriller) - 8.1 IMDb | ⭐⭐⭐⭐\n",
            "4. Ratsasan (Tamil) (Crime/Thriller) - 8.3 IMDb | ⭐⭐⭐⭐⭐\n",
            "5. Goodachari (Spy Thriller) - 7.9 IMDb | ⭐⭐⭐⭐\n",
            "\n",
            "Select a movie by number to get the OTT platform (or type 'exit' to skip): 4\n",
            "\n",
            "Ratsasan (Tamil) is available on Hotstar.\n",
            "Smart move! This will definitely keep your mind engaged.\n",
            "Enjoy watching!\n"
          ]
        }
      ]
    }
  ]
}