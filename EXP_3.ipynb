{
  "nbformat": 4,
  "nbformat_minor": 0,
  "metadata": {
    "colab": {
      "provenance": [],
      "authorship_tag": "ABX9TyOeK3GCMiVdUPRcBzNF5ATb",
      "include_colab_link": true
    },
    "kernelspec": {
      "name": "python3",
      "display_name": "Python 3"
    },
    "language_info": {
      "name": "python"
    }
  },
  "cells": [
    {
      "cell_type": "markdown",
      "metadata": {
        "id": "view-in-github",
        "colab_type": "text"
      },
      "source": [
        "<a href=\"https://colab.research.google.com/github/9921005067/lab-experiment-/blob/main/EXP_3.ipynb\" target=\"_parent\"><img src=\"https://colab.research.google.com/assets/colab-badge.svg\" alt=\"Open In Colab\"/></a>"
      ]
    },
    {
      "cell_type": "code",
      "execution_count": 1,
      "metadata": {
        "colab": {
          "base_uri": "https://localhost:8080/"
        },
        "id": "UFq5Ve77z2B9",
        "outputId": "da058628-052e-49cb-c039-d69db830c42d"
      },
      "outputs": [
        {
          "output_type": "stream",
          "name": "stdout",
          "text": [
            "Epoch 1/10\n",
            "20/20 [==============================] - 2s 30ms/step - loss: 0.6873 - accuracy: 0.5531 - val_loss: 0.6708 - val_accuracy: 0.6500\n",
            "Epoch 2/10\n",
            "20/20 [==============================] - 0s 8ms/step - loss: 0.6707 - accuracy: 0.6031 - val_loss: 0.6493 - val_accuracy: 0.6687\n",
            "Epoch 3/10\n",
            "20/20 [==============================] - 0s 11ms/step - loss: 0.6537 - accuracy: 0.6359 - val_loss: 0.6292 - val_accuracy: 0.6812\n",
            "Epoch 4/10\n",
            "20/20 [==============================] - 0s 6ms/step - loss: 0.6356 - accuracy: 0.6672 - val_loss: 0.6079 - val_accuracy: 0.7063\n",
            "Epoch 5/10\n",
            "20/20 [==============================] - 0s 7ms/step - loss: 0.6153 - accuracy: 0.7016 - val_loss: 0.5880 - val_accuracy: 0.7250\n",
            "Epoch 6/10\n",
            "20/20 [==============================] - 0s 9ms/step - loss: 0.5932 - accuracy: 0.7391 - val_loss: 0.5651 - val_accuracy: 0.7875\n",
            "Epoch 7/10\n",
            "20/20 [==============================] - 0s 18ms/step - loss: 0.5692 - accuracy: 0.7609 - val_loss: 0.5395 - val_accuracy: 0.7937\n",
            "Epoch 8/10\n",
            "20/20 [==============================] - 0s 9ms/step - loss: 0.5441 - accuracy: 0.8031 - val_loss: 0.5152 - val_accuracy: 0.8188\n",
            "Epoch 9/10\n",
            "20/20 [==============================] - 0s 6ms/step - loss: 0.5177 - accuracy: 0.8250 - val_loss: 0.4906 - val_accuracy: 0.8562\n",
            "Epoch 10/10\n",
            "20/20 [==============================] - 0s 15ms/step - loss: 0.4915 - accuracy: 0.8484 - val_loss: 0.4670 - val_accuracy: 0.9125\n",
            "7/7 [==============================] - 0s 4ms/step\n",
            "Test accuracy: 0.8550\n"
          ]
        }
      ],
      "source": [
        "import numpy as np\n",
        "import tensorflow as tf\n",
        "from tensorflow.keras.models import Sequential\n",
        "from tensorflow.keras.layers import Dense,Input\n",
        "from sklearn.model_selection import train_test_split\n",
        "from sklearn.metrics import accuracy_score\n",
        "np.random.seed(42)\n",
        "X = np.random.rand(1000, 2)\n",
        "y = (X[:, 0] + X[:, 1] > 1).astype(int)\n",
        "X_train, X_test, y_train, y_test = train_test_split(X, y, test_size=0.2,\n",
        "random_state=42)\n",
        "model = Sequential([Input(shape=(2)),Dense(64, activation='relu'),Dense(1,\n",
        "activation='sigmoid')])\n",
        "model.compile(optimizer='adam',loss='binary_crossentropy',metrics=['accuracy'])\n",
        "model.fit(X_train, y_train, epochs=10, batch_size=32, validation_split=0.2)\n",
        "y_pred = model.predict(X_test)\n",
        "y_pred_binary = (y_pred > 0.5).astype(int)\n",
        "test_accuracy = accuracy_score(y_test, y_pred_binary)\n",
        "print(f\"Test accuracy: {test_accuracy:.4f}\")\n"
      ]
    }
  ]
}