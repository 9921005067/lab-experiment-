{
  "nbformat": 4,
  "nbformat_minor": 0,
  "metadata": {
    "colab": {
      "provenance": [],
      "authorship_tag": "ABX9TyNyUQaVAG9I2KnEJqYbobas",
      "include_colab_link": true
    },
    "kernelspec": {
      "name": "python3",
      "display_name": "Python 3"
    },
    "language_info": {
      "name": "python"
    }
  },
  "cells": [
    {
      "cell_type": "markdown",
      "metadata": {
        "id": "view-in-github",
        "colab_type": "text"
      },
      "source": [
        "<a href=\"https://colab.research.google.com/github/9921005067/lab-experiment-/blob/main/EXP_8.ipynb\" target=\"_parent\"><img src=\"https://colab.research.google.com/assets/colab-badge.svg\" alt=\"Open In Colab\"/></a>"
      ]
    },
    {
      "cell_type": "code",
      "execution_count": 1,
      "metadata": {
        "colab": {
          "base_uri": "https://localhost:8080/"
        },
        "id": "o9WY-msn4UAl",
        "outputId": "0f1f2e20-95cc-4ca1-f004-ee20c11cf6dc"
      },
      "outputs": [
        {
          "output_type": "stream",
          "name": "stdout",
          "text": [
            "Downloading data from https://storage.googleapis.com/tensorflow/tf-keras-datasets/mnist.npz\n",
            "11490434/11490434 [==============================] - 0s 0us/step\n",
            "Epoch 1/10\n",
            "300/300 - 30s - loss: 0.3497 - accuracy: 0.8931 - val_loss: 0.0646 - val_accuracy: 0.9811 - 30s/epoch - 99ms/step\n",
            "Epoch 2/10\n",
            "300/300 - 24s - loss: 0.1034 - accuracy: 0.9694 - val_loss: 0.0454 - val_accuracy: 0.9856 - 24s/epoch - 81ms/step\n",
            "Epoch 3/10\n",
            "300/300 - 24s - loss: 0.0773 - accuracy: 0.9775 - val_loss: 0.0360 - val_accuracy: 0.9883 - 24s/epoch - 80ms/step\n",
            "Epoch 4/10\n",
            "300/300 - 24s - loss: 0.0625 - accuracy: 0.9809 - val_loss: 0.0315 - val_accuracy: 0.9884 - 24s/epoch - 80ms/step\n",
            "Epoch 5/10\n",
            "300/300 - 24s - loss: 0.0550 - accuracy: 0.9840 - val_loss: 0.0306 - val_accuracy: 0.9903 - 24s/epoch - 79ms/step\n",
            "Epoch 6/10\n",
            "300/300 - 24s - loss: 0.0495 - accuracy: 0.9852 - val_loss: 0.0273 - val_accuracy: 0.9907 - 24s/epoch - 79ms/step\n",
            "Epoch 7/10\n",
            "300/300 - 24s - loss: 0.0411 - accuracy: 0.9878 - val_loss: 0.0252 - val_accuracy: 0.9911 - 24s/epoch - 79ms/step\n",
            "Epoch 8/10\n",
            "300/300 - 24s - loss: 0.0368 - accuracy: 0.9886 - val_loss: 0.0245 - val_accuracy: 0.9908 - 24s/epoch - 79ms/step\n",
            "Epoch 9/10\n",
            "300/300 - 24s - loss: 0.0349 - accuracy: 0.9888 - val_loss: 0.0249 - val_accuracy: 0.9915 - 24s/epoch - 79ms/step\n",
            "Epoch 10/10\n",
            "300/300 - 24s - loss: 0.0310 - accuracy: 0.9907 - val_loss: 0.0249 - val_accuracy: 0.9922 - 24s/epoch - 79ms/step\n",
            "Test accuracy: 99.22%\n"
          ]
        }
      ],
      "source": [
        "import tensorflow as tf\n",
        "from tensorflow.keras.datasets import mnist\n",
        "from tensorflow.keras.models import Sequential\n",
        "from tensorflow.keras.layers import Conv2D, MaxPooling2D, Flatten, Dense, Dropout\n",
        "from tensorflow.keras.utils import to_categorical\n",
        "# Load and preprocess the dataset\n",
        "(x_train, y_train), (x_test, y_test) = mnist.load_data()\n",
        "x_train = x_train.reshape(x_train.shape[0], 28, 28, 1).astype('float32') / 255\n",
        "x_test = x_test.reshape(x_test.shape[0], 28, 28, 1).astype('float32') / 255\n",
        "y_train = to_categorical(y_train, 10)\n",
        "y_test = to_categorical(y_test, 10)\n",
        "# Build the CNN model\n",
        "model = Sequential()\n",
        "model.add(Conv2D(32, kernel_size=(3, 3), activation='relu',\n",
        "input_shape=(28, 28, 1)))\n",
        "model.add(MaxPooling2D(pool_size=(2, 2)))\n",
        "model.add(Conv2D(64, kernel_size=(3, 3), activation='relu'))\n",
        "model.add(MaxPooling2D(pool_size=(2, 2)))\n",
        "model.add(Flatten())\n",
        "model.add(Dense(128, activation='relu'))\n",
        "model.add(Dropout(0.5))\n",
        "model.add(Dense(10, activation='softmax'))\n",
        "# Compile the model\n",
        "model.compile(loss='categorical_crossentropy', optimizer='adam',\n",
        "metrics=['accuracy'])\n",
        "# Train the model\n",
        "model.fit(x_train, y_train, validation_data=(x_test, y_test), epochs=10,\n",
        "batch_size=200, verbose=2)\n",
        "# Evaluate the model\n",
        "test_loss, test_acc = model.evaluate(x_test, y_test, verbose=0)\n",
        "print(f'Test accuracy: {test_acc*100:.2f}%')\n",
        "\n"
      ]
    }
  ]
}